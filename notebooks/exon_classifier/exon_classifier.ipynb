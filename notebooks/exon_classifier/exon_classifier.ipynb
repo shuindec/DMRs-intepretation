{
 "cells": [
  {
   "cell_type": "markdown",
   "id": "caf14a13",
   "metadata": {},
   "source": [
    "## Predicting exons with Evo 2 Embeddings\n",
    "\n",
    "As a result of extensive pretraining, we expect Evo 2 embeddings to capture details of eukaryotic gene architecture. By training a lightweight model on top of Evo 2 embeddings, we can build classifiers to predict genomic annotations. Annotation prediction tools, in combination with bioinformatic approaches, may aid in characterization of non-reference organism genomes. We demonstrate this approach by training a classifier to predict exonic annotation of a genomic position at single-nucleotide resolution. \n",
    "\n",
    "Here, we start by loading sample positions. We then extract Evo 2 embeddings for sample positions from diverse eukaryotes, run them through the exon classifier, and demonstrate classification accuracy."
   ]
  },
  {
   "cell_type": "code",
   "execution_count": 1,
   "id": "14edf7c0",
   "metadata": {},
   "outputs": [
    {
     "data": {
      "text/html": [
       "<div>\n",
       "<style scoped>\n",
       "    .dataframe tbody tr th:only-of-type {\n",
       "        vertical-align: middle;\n",
       "    }\n",
       "\n",
       "    .dataframe tbody tr th {\n",
       "        vertical-align: top;\n",
       "    }\n",
       "\n",
       "    .dataframe thead th {\n",
       "        text-align: right;\n",
       "    }\n",
       "</style>\n",
       "<table border=\"1\" class=\"dataframe\">\n",
       "  <thead>\n",
       "    <tr style=\"text-align: right;\">\n",
       "      <th></th>\n",
       "      <th>organism</th>\n",
       "      <th>assembly</th>\n",
       "      <th>gene_name</th>\n",
       "      <th>sequence_record</th>\n",
       "      <th>strand</th>\n",
       "      <th>position</th>\n",
       "      <th>label</th>\n",
       "      <th>forward_seq</th>\n",
       "      <th>reverse_seq</th>\n",
       "    </tr>\n",
       "  </thead>\n",
       "  <tbody>\n",
       "    <tr>\n",
       "      <th>0</th>\n",
       "      <td>Homo_sapiens</td>\n",
       "      <td>GCF_000001405.40</td>\n",
       "      <td>CLCN7</td>\n",
       "      <td>NC_000016.10</td>\n",
       "      <td>-</td>\n",
       "      <td>1453979.0</td>\n",
       "      <td>0.0</td>\n",
       "      <td>atcactttgcttgtgtcttaccaaagatctttgcatccgtggttgt...</td>\n",
       "      <td>ggaagacctgccttcccagccagtgtccacagggcagcaattccac...</td>\n",
       "    </tr>\n",
       "    <tr>\n",
       "      <th>1</th>\n",
       "      <td>Homo_sapiens</td>\n",
       "      <td>GCF_000001405.40</td>\n",
       "      <td>PRORP</td>\n",
       "      <td>NC_000014.9</td>\n",
       "      <td>+</td>\n",
       "      <td>35275559.0</td>\n",
       "      <td>1.0</td>\n",
       "      <td>gtcagagggttgtgaatggggtggtcaggaacagcctttctgaggg...</td>\n",
       "      <td>tacaaaaaataaattaaccaggtgtggtggtgtccaccttataggg...</td>\n",
       "    </tr>\n",
       "    <tr>\n",
       "      <th>2</th>\n",
       "      <td>Homo_sapiens</td>\n",
       "      <td>GCF_000001405.40</td>\n",
       "      <td>ZNF804B</td>\n",
       "      <td>NC_000007.14</td>\n",
       "      <td>+</td>\n",
       "      <td>88969116.0</td>\n",
       "      <td>0.0</td>\n",
       "      <td>ttccttctgaatccaccaatgattttgtcattgacaaataaccttg...</td>\n",
       "      <td>aaactattcaaaaaaaaaaatagaggatgaaggaatacttccaaac...</td>\n",
       "    </tr>\n",
       "    <tr>\n",
       "      <th>3</th>\n",
       "      <td>Homo_sapiens</td>\n",
       "      <td>GCF_000001405.40</td>\n",
       "      <td>VPS8</td>\n",
       "      <td>NC_000003.12</td>\n",
       "      <td>+</td>\n",
       "      <td>184850021.0</td>\n",
       "      <td>1.0</td>\n",
       "      <td>tcagccaagttcattgaggaatgctgaatcctgtataagtgtattt...</td>\n",
       "      <td>cagtcatccttataatttgcttcttccccttctgctccaaggtaac...</td>\n",
       "    </tr>\n",
       "    <tr>\n",
       "      <th>4</th>\n",
       "      <td>Homo_sapiens</td>\n",
       "      <td>GCF_000001405.40</td>\n",
       "      <td>GOLGB1</td>\n",
       "      <td>NC_000003.12</td>\n",
       "      <td>-</td>\n",
       "      <td>121729928.0</td>\n",
       "      <td>1.0</td>\n",
       "      <td>ttcattaaaagttaaccaaagaaaatatgatctctaaagttgaaaa...</td>\n",
       "      <td>gggaagaagaatgtcacatactggtgccatttaacataaaatcaca...</td>\n",
       "    </tr>\n",
       "    <tr>\n",
       "      <th>...</th>\n",
       "      <td>...</td>\n",
       "      <td>...</td>\n",
       "      <td>...</td>\n",
       "      <td>...</td>\n",
       "      <td>...</td>\n",
       "      <td>...</td>\n",
       "      <td>...</td>\n",
       "      <td>...</td>\n",
       "      <td>...</td>\n",
       "    </tr>\n",
       "    <tr>\n",
       "      <th>117</th>\n",
       "      <td>Danio_rerio</td>\n",
       "      <td>GCF_000002035.6</td>\n",
       "      <td>map2</td>\n",
       "      <td>NC_007120.7</td>\n",
       "      <td>+</td>\n",
       "      <td>38833672.0</td>\n",
       "      <td>0.0</td>\n",
       "      <td>agacttgatagcatcagctctctgagtaattcataatgtgagatgt...</td>\n",
       "      <td>gcttataaatcactgaaagagtgcttactgttaattgaattatatt...</td>\n",
       "    </tr>\n",
       "    <tr>\n",
       "      <th>118</th>\n",
       "      <td>Danio_rerio</td>\n",
       "      <td>GCF_000002035.6</td>\n",
       "      <td>sgce</td>\n",
       "      <td>NC_007130.7</td>\n",
       "      <td>-</td>\n",
       "      <td>41037095.0</td>\n",
       "      <td>1.0</td>\n",
       "      <td>agccatatcgcactgctaggagtgtgatattgcatttatacaacag...</td>\n",
       "      <td>ttaaagcattacaggtcaaagcaatccgttgttactgtacttgttt...</td>\n",
       "    </tr>\n",
       "    <tr>\n",
       "      <th>119</th>\n",
       "      <td>Danio_rerio</td>\n",
       "      <td>GCF_000002035.6</td>\n",
       "      <td>porcnl</td>\n",
       "      <td>NC_007119.7</td>\n",
       "      <td>-</td>\n",
       "      <td>22544340.0</td>\n",
       "      <td>1.0</td>\n",
       "      <td>gctaaatgactctactatactaaactctactatatactcaaagaga...</td>\n",
       "      <td>gctttggatgtgtgttggggtgaggaccctacagacatcatgcaag...</td>\n",
       "    </tr>\n",
       "    <tr>\n",
       "      <th>120</th>\n",
       "      <td>Danio_rerio</td>\n",
       "      <td>GCF_000002035.6</td>\n",
       "      <td>si:dkey-7j14.5</td>\n",
       "      <td>NC_007127.7</td>\n",
       "      <td>-</td>\n",
       "      <td>43023144.0</td>\n",
       "      <td>1.0</td>\n",
       "      <td>cttaaacatttattcaaatttatttttaaatattcagaaatgaagc...</td>\n",
       "      <td>atttctcaaattgtgattcgattgaacttgatagatgttgccctgt...</td>\n",
       "    </tr>\n",
       "    <tr>\n",
       "      <th>121</th>\n",
       "      <td>Danio_rerio</td>\n",
       "      <td>GCF_000002035.6</td>\n",
       "      <td>pudp</td>\n",
       "      <td>NC_007112.7</td>\n",
       "      <td>+</td>\n",
       "      <td>32370467.0</td>\n",
       "      <td>0.0</td>\n",
       "      <td>cgcacctgcagtgtttagcacagaagaacagaataaactaaataaa...</td>\n",
       "      <td>tataactcaggtttttgaacacacttcgttaatattgttcatttat...</td>\n",
       "    </tr>\n",
       "  </tbody>\n",
       "</table>\n",
       "<p>122 rows × 9 columns</p>\n",
       "</div>"
      ],
      "text/plain": [
       "         organism          assembly       gene_name sequence_record strand  \\\n",
       "0    Homo_sapiens  GCF_000001405.40           CLCN7    NC_000016.10      -   \n",
       "1    Homo_sapiens  GCF_000001405.40           PRORP     NC_000014.9      +   \n",
       "2    Homo_sapiens  GCF_000001405.40         ZNF804B    NC_000007.14      +   \n",
       "3    Homo_sapiens  GCF_000001405.40            VPS8    NC_000003.12      +   \n",
       "4    Homo_sapiens  GCF_000001405.40          GOLGB1    NC_000003.12      -   \n",
       "..            ...               ...             ...             ...    ...   \n",
       "117   Danio_rerio   GCF_000002035.6            map2     NC_007120.7      +   \n",
       "118   Danio_rerio   GCF_000002035.6            sgce     NC_007130.7      -   \n",
       "119   Danio_rerio   GCF_000002035.6          porcnl     NC_007119.7      -   \n",
       "120   Danio_rerio   GCF_000002035.6  si:dkey-7j14.5     NC_007127.7      -   \n",
       "121   Danio_rerio   GCF_000002035.6            pudp     NC_007112.7      +   \n",
       "\n",
       "        position  label                                        forward_seq  \\\n",
       "0      1453979.0    0.0  atcactttgcttgtgtcttaccaaagatctttgcatccgtggttgt...   \n",
       "1     35275559.0    1.0  gtcagagggttgtgaatggggtggtcaggaacagcctttctgaggg...   \n",
       "2     88969116.0    0.0  ttccttctgaatccaccaatgattttgtcattgacaaataaccttg...   \n",
       "3    184850021.0    1.0  tcagccaagttcattgaggaatgctgaatcctgtataagtgtattt...   \n",
       "4    121729928.0    1.0  ttcattaaaagttaaccaaagaaaatatgatctctaaagttgaaaa...   \n",
       "..           ...    ...                                                ...   \n",
       "117   38833672.0    0.0  agacttgatagcatcagctctctgagtaattcataatgtgagatgt...   \n",
       "118   41037095.0    1.0  agccatatcgcactgctaggagtgtgatattgcatttatacaacag...   \n",
       "119   22544340.0    1.0  gctaaatgactctactatactaaactctactatatactcaaagaga...   \n",
       "120   43023144.0    1.0  cttaaacatttattcaaatttatttttaaatattcagaaatgaagc...   \n",
       "121   32370467.0    0.0  cgcacctgcagtgtttagcacagaagaacagaataaactaaataaa...   \n",
       "\n",
       "                                           reverse_seq  \n",
       "0    ggaagacctgccttcccagccagtgtccacagggcagcaattccac...  \n",
       "1    tacaaaaaataaattaaccaggtgtggtggtgtccaccttataggg...  \n",
       "2    aaactattcaaaaaaaaaaatagaggatgaaggaatacttccaaac...  \n",
       "3    cagtcatccttataatttgcttcttccccttctgctccaaggtaac...  \n",
       "4    gggaagaagaatgtcacatactggtgccatttaacataaaatcaca...  \n",
       "..                                                 ...  \n",
       "117  gcttataaatcactgaaagagtgcttactgttaattgaattatatt...  \n",
       "118  ttaaagcattacaggtcaaagcaatccgttgttactgtacttgttt...  \n",
       "119  gctttggatgtgtgttggggtgaggaccctacagacatcatgcaag...  \n",
       "120  atttctcaaattgtgattcgattgaacttgatagatgttgccctgt...  \n",
       "121  tataactcaggtttttgaacacacttcgttaatattgttcatttat...  \n",
       "\n",
       "[122 rows x 9 columns]"
      ]
     },
     "execution_count": 1,
     "metadata": {},
     "output_type": "execute_result"
    }
   ],
   "source": [
    "import pandas as pd\n",
    "positions = pd.read_csv('notebooks/exon_classifier/samplePositions.tsv',sep='\\t')\n",
    "positions"
   ]
  },
  {
   "cell_type": "code",
   "execution_count": 2,
   "id": "eff8873f",
   "metadata": {},
   "outputs": [
    {
     "data": {
      "text/html": [
       "<pre style=\"white-space:pre;overflow-x:auto;line-height:normal;font-family:Menlo,'DejaVu Sans Mono',consolas,'Courier New',monospace\"><span style=\"color: #7fbfbf; text-decoration-color: #7fbfbf\">[06/10/25 11:34:05] </span><span style=\"color: #808000; text-decoration-color: #808000\">WARNING </span> root - WARNING - Supported flash-attn versions are &gt;= <span style=\"color: #008080; text-decoration-color: #008080; font-weight: bold\">2.1</span>.<span style=\"color: #008080; text-decoration-color: #008080; font-weight: bold\">1</span>, &lt;=       <a href=\"file:///home/jon/projects/evo2/envs/public_evo2/lib/python3.11/site-packages/transformer_engine/pytorch/attention.py\" target=\"_blank\"><span style=\"color: #7f7f7f; text-decoration-color: #7f7f7f\">attention.py</span></a><span style=\"color: #7f7f7f; text-decoration-color: #7f7f7f\">:</span><a href=\"file:///home/jon/projects/evo2/envs/public_evo2/lib/python3.11/site-packages/transformer_engine/pytorch/attention.py#164\" target=\"_blank\"><span style=\"color: #7f7f7f; text-decoration-color: #7f7f7f\">164</span></a>\n",
       "<span style=\"color: #7fbfbf; text-decoration-color: #7fbfbf\">                    </span>         <span style=\"color: #008080; text-decoration-color: #008080; font-weight: bold\">2.6</span>.<span style=\"color: #008080; text-decoration-color: #008080; font-weight: bold\">3</span>. Found flash-attn <span style=\"color: #008080; text-decoration-color: #008080; font-weight: bold\">2.7</span>.<span style=\"color: #008080; text-decoration-color: #008080; font-weight: bold\">4.</span>post1.                                  <span style=\"color: #7f7f7f; text-decoration-color: #7f7f7f\">                </span>\n",
       "</pre>\n"
      ],
      "text/plain": [
       "\u001b[2;36m[06/10/25 11:34:05]\u001b[0m\u001b[2;36m \u001b[0m\u001b[33mWARNING \u001b[0m root - WARNING - Supported flash-attn versions are >= \u001b[1;36m2.1\u001b[0m.\u001b[1;36m1\u001b[0m, <=       \u001b]8;id=923673;file:///home/jon/projects/evo2/envs/public_evo2/lib/python3.11/site-packages/transformer_engine/pytorch/attention.py\u001b\\\u001b[2mattention.py\u001b[0m\u001b]8;;\u001b\\\u001b[2m:\u001b[0m\u001b]8;id=226087;file:///home/jon/projects/evo2/envs/public_evo2/lib/python3.11/site-packages/transformer_engine/pytorch/attention.py#164\u001b\\\u001b[2m164\u001b[0m\u001b]8;;\u001b\\\n",
       "\u001b[2;36m                    \u001b[0m         \u001b[1;36m2.6\u001b[0m.\u001b[1;36m3\u001b[0m. Found flash-attn \u001b[1;36m2.7\u001b[0m.\u001b[1;36m4.\u001b[0mpost1.                                  \u001b[2m                \u001b[0m\n"
      ]
     },
     "metadata": {},
     "output_type": "display_data"
    },
    {
     "data": {
      "application/vnd.jupyter.widget-view+json": {
       "model_id": "0d02f4957c33495dba1f023d57ccff77",
       "version_major": 2,
       "version_minor": 0
      },
      "text/plain": [
       "Fetching 4 files:   0%|          | 0/4 [00:00<?, ?it/s]"
      ]
     },
     "metadata": {},
     "output_type": "display_data"
    },
    {
     "name": "stdout",
     "output_type": "stream",
     "text": [
      "Found complete file in repo: evo2_7b_base.pt\n"
     ]
    },
    {
     "name": "stderr",
     "output_type": "stream",
     "text": [
      "100%|██████████| 32/32 [00:00<00:00, 243.12it/s]\n"
     ]
    },
    {
     "name": "stdout",
     "output_type": "stream",
     "text": [
      "Extra keys in state_dict: {'blocks.3.mixer.dense._extra_state', 'unembed.weight', 'blocks.31.mixer.dense._extra_state', 'blocks.24.mixer.dense._extra_state', 'blocks.10.mixer.dense._extra_state', 'blocks.17.mixer.dense._extra_state'}\n"
     ]
    }
   ],
   "source": [
    "# Load Evo2 model\n",
    "from evo2 import Evo2\n",
    "\n",
    "evo2_model = Evo2('evo2_7b_base')"
   ]
  },
  {
   "cell_type": "code",
   "execution_count": 3,
   "id": "a7c3860f",
   "metadata": {},
   "outputs": [],
   "source": [
    "# Function to tokenize and get embedding for the final token in a sequence\n",
    "import torch\n",
    "\n",
    "def get_final_token_embedding(sequence, model, layer_name):\n",
    "    input_ids = torch.tensor(\n",
    "        model.tokenizer.tokenize(sequence),\n",
    "        dtype=torch.int,\n",
    "    ).unsqueeze(0).to('cuda:0')\n",
    "    with torch.no_grad():\n",
    "        _, embeddings = model(input_ids, return_embeddings=True, layer_names=[layer_name])\n",
    "    return embeddings[layer_name][0, -1, :].cpu().to(torch.float32).numpy()  # shape: (hidden_dim,)"
   ]
  },
  {
   "cell_type": "code",
   "execution_count": 4,
   "id": "0a2119c2",
   "metadata": {},
   "outputs": [
    {
     "name": "stderr",
     "output_type": "stream",
     "text": [
      "Extracting embeddings: 100%|██████████| 122/122 [01:24<00:00,  1.44it/s]\n"
     ]
    }
   ],
   "source": [
    "# Get Evo 2 embeddings for the each position and append to the dataframe\n",
    "import numpy as np\n",
    "from tqdm import tqdm\n",
    "\n",
    "embedding_list = []\n",
    "layer_name = 'blocks.26'\n",
    "\n",
    "for _, row in tqdm(positions.iterrows(), total=len(positions), desc=\"Extracting embeddings\"):\n",
    "    emb_fwd = get_final_token_embedding(row['forward_seq'], evo2_model, layer_name)\n",
    "    emb_rev = get_final_token_embedding(row['reverse_seq'], evo2_model, layer_name)\n",
    "    emb_concat = np.concatenate((emb_fwd, emb_rev))\n",
    "    embedding_list.append(emb_concat)\n",
    "\n",
    "# Add to DataFrame\n",
    "positions['embedding'] = embedding_list"
   ]
  },
  {
   "cell_type": "code",
   "execution_count": 5,
   "id": "75897185",
   "metadata": {},
   "outputs": [],
   "source": [
    "# Load the lightweight exon classifier\n",
    "from transformers import AutoModel\n",
    "\n",
    "exon_classifier = AutoModel.from_pretrained(\n",
    "    \"schmojo/evo2-exon-classifier\",\n",
    "    trust_remote_code=True   # pulls the two .py files\n",
    ").to('cuda:0')"
   ]
  },
  {
   "cell_type": "code",
   "execution_count": 6,
   "id": "6e75e257",
   "metadata": {},
   "outputs": [
    {
     "name": "stderr",
     "output_type": "stream",
     "text": [
      "Calculating exonic probabilities: 100%|██████████| 122/122 [00:00<00:00, 1199.94it/s]\n"
     ]
    }
   ],
   "source": [
    "# Generate exonic probabilities for each sample position\n",
    "exonic_probs_list = []\n",
    "\n",
    "for _, row in tqdm(positions.iterrows(), total=len(positions), desc=\"Calculating exonic probabilities\"):\n",
    "    embedding_tensor = torch.tensor(row['embedding'], dtype=torch.float32).unsqueeze(0).unsqueeze(1).to('cuda:0')\n",
    "    prob = exon_classifier(embedding_tensor)\n",
    "    prob_value = prob['logits'].item()\n",
    "    exonic_probs_list.append(prob_value)\n",
    "\n",
    "# Add to DataFrame\n",
    "positions['exon_prob'] = exonic_probs_list"
   ]
  },
  {
   "cell_type": "code",
   "execution_count": 7,
   "id": "d0c50668",
   "metadata": {},
   "outputs": [
    {
     "data": {
      "image/png": "[encoded data removed]",
      "text/plain": [
       "<Figure size 600x600 with 1 Axes>"
      ]
     },
     "metadata": {},
     "output_type": "display_data"
    }
   ],
   "source": [
    "# Plot ROC and display Accuracy (threshold=0.5) and AUROC\n",
    "from sklearn.metrics import roc_auc_score, roc_curve, accuracy_score\n",
    "import matplotlib.pyplot as plt\n",
    "\n",
    "y_true = positions['label']\n",
    "y_scores = positions['exon_prob']\n",
    "\n",
    "# AUROC\n",
    "auroc = roc_auc_score(y_true, y_scores)\n",
    "\n",
    "# Accuracy at threshold 0.5\n",
    "y_pred = (y_scores >= 0.5).astype(int)\n",
    "accuracy = accuracy_score(y_true, y_pred)\n",
    "\n",
    "# ROC curve\n",
    "fpr, tpr, _ = roc_curve(y_true, y_scores)\n",
    "\n",
    "# Plot\n",
    "plt.figure(figsize=(6, 6))\n",
    "plt.plot(fpr, tpr, label=f\"AUROC = {auroc:.4f}\\nAccuracy@0.5 = {accuracy:.4f}\")\n",
    "plt.plot([0, 1], [0, 1], linestyle='--', color='gray')  # Diagonal line\n",
    "plt.xlabel(\"False Positive Rate\")\n",
    "plt.ylabel(\"True Positive Rate\")\n",
    "plt.title(\"Receiver Operating Characteristic (ROC)\")\n",
    "plt.legend(loc='lower right')\n",
    "plt.grid(True)\n",
    "plt.show()"
   ]
  }
 ],
 "metadata": {
  "kernelspec": {
   "display_name": "Python 3",
   "language": "python",
   "name": "python3"
  },
  "language_info": {
   "codemirror_mode": {
    "name": "ipython",
    "version": 3
   },
   "file_extension": ".py",
   "mimetype": "text/x-python",
   "name": "python",
   "nbconvert_exporter": "python",
   "pygments_lexer": "ipython3",
   "version": "3.11.13"
  }
 },
 "nbformat": 4,
 "nbformat_minor": 5
}
